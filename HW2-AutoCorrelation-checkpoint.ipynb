{
 "cells": [
  {
   "cell_type": "code",
   "execution_count": 1,
   "id": "15e936ba",
   "metadata": {},
   "outputs": [],
   "source": [
    "import numpy as np\n",
    "from scipy import signal"
   ]
  },
  {
   "cell_type": "code",
   "execution_count": 3,
   "id": "8978272a",
   "metadata": {},
   "outputs": [],
   "source": [
    "a = np.array([0, 3, 1, 2, -1])\n",
    "b = np.array([3, 2, 1])"
   ]
  },
  {
   "cell_type": "code",
   "execution_count": 4,
   "id": "afbaac9c",
   "metadata": {},
   "outputs": [],
   "source": [
    "def correlate_function_1(a,b):\n",
    "    y = np.zeros((a.shape[0] + b.shape[0] -1,))\n",
    "    for i in range(y.shape[0]):\n",
    "        lo = max(0, i-b.shape[0]-1)\n",
    "        hi = min(a.shape[0], i)\n",
    "        for j in range(lo, hi):\n",
    "            if j <0 or j>= b.shape[0] or (i-j)<0 or (i-j)> a.shape[0]:\n",
    "                y[y.shape[0]-i] += 0\n",
    "            else:\n",
    "                y[y.shape[0]-i] += a[j-i]*b[j]\n",
    "    return y"
   ]
  },
  {
   "cell_type": "code",
   "execution_count": 6,
   "id": "36cd0160",
   "metadata": {},
   "outputs": [],
   "source": [
    "correlation1 = np.correlate(a,b, mode='full')\n",
    "correlation2 = signal.correlate(a,b)\n",
    "correlation3 = correlate_function_1(a,b)"
   ]
  },
  {
   "cell_type": "code",
   "execution_count": 7,
   "id": "c4262490",
   "metadata": {},
   "outputs": [
    {
     "name": "stdout",
     "output_type": "stream",
     "text": [
      "numpy correlation: [ 0  3  7 13  6  4 -3]\n",
      "scipy signal correlation: [ 0  3  7 13  6  4 -3]\n",
      "correlation method 1: [ 0.  3.  7. 13.  6.  4. -3.]\n"
     ]
    }
   ],
   "source": [
    "print(f'numpy correlation: {correlation1}')\n",
    "print(f'scipy signal correlation: {correlation2}')\n",
    "print(f'correlation method 1: {correlation3}')"
   ]
  },
  {
   "cell_type": "code",
   "execution_count": 8,
   "id": "4ef674d2",
   "metadata": {},
   "outputs": [],
   "source": [
    "autocorrelation1 = np.correlate(a,a, mode='full')\n",
    "autocorrelation2 = signal.correlate(a,a)\n",
    "autocorrelation3 = correlate_function_1(a,a)"
   ]
  },
  {
   "cell_type": "code",
   "execution_count": 9,
   "id": "e2ed1750",
   "metadata": {},
   "outputs": [
    {
     "name": "stdout",
     "output_type": "stream",
     "text": [
      "numpy correlation: [ 0 -3  5  3 15  3  5 -3  0]\n",
      "scipy signal correlation: [ 0 -3  5  3 15  3  5 -3  0]\n",
      "correlation method 1: [ 0. -3.  5.  3. 15.  3.  5. -3.  0.]\n"
     ]
    }
   ],
   "source": [
    "print(f'numpy autocorrelation: {autocorrelation1}')\n",
    "print(f'scipy signal autocorrelation: {autocorrelation2}')\n",
    "print(f'autocorrelation method 1: {autocorrelation3}')"
   ]
  }
 ],
 "metadata": {
  "kernelspec": {
   "display_name": "Python 3 (ipykernel)",
   "language": "python",
   "name": "python3"
  },
  "language_info": {
   "codemirror_mode": {
    "name": "ipython",
    "version": 3
   },
   "file_extension": ".py",
   "mimetype": "text/x-python",
   "name": "python",
   "nbconvert_exporter": "python",
   "pygments_lexer": "ipython3",
   "version": "3.7.0"
  }
 },
 "nbformat": 4,
 "nbformat_minor": 5
}
