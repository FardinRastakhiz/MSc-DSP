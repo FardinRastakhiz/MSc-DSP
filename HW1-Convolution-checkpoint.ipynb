{
 "cells": [
  {
   "cell_type": "code",
   "execution_count": 7,
   "id": "579e5b4e",
   "metadata": {},
   "outputs": [],
   "source": [
    "import numpy as np\n",
    "from scipy import signal"
   ]
  },
  {
   "cell_type": "code",
   "execution_count": 8,
   "id": "4567c48c",
   "metadata": {},
   "outputs": [],
   "source": [
    "a = np.array([0, 3, 1, 2, -1])\n",
    "b = np.array([3, 2, 1])"
   ]
  },
  {
   "cell_type": "code",
   "execution_count": 9,
   "id": "1b4d3f74",
   "metadata": {},
   "outputs": [],
   "source": [
    "def convolve_function_1(a, b):\n",
    "    y = np.zeros((a.shape[0] + b.shape[0] -1,))\n",
    "    for i in range(y.shape[0]):\n",
    "        lo = max(0, i-b.shape[0]-1)\n",
    "        hi = min(a.shape[0], i)\n",
    "        for j in range(lo, hi):\n",
    "            if j <0 or j>= b.shape[0] or (i-j)<0 or (i-j)> a.shape[0]:\n",
    "                y[i] += 0\n",
    "            else:\n",
    "                y[i] += a[i-j]*b[j]\n",
    "    return y"
   ]
  },
  {
   "cell_type": "code",
   "execution_count": 10,
   "id": "451e6fcf",
   "metadata": {},
   "outputs": [],
   "source": [
    "def convolve_function_2(a, b):\n",
    "    y = np.zeros((a.shape[0] + b.shape[0] -1,))\n",
    "    for i in range(a.shape[0]):\n",
    "        for j in range(b.shape[0]):\n",
    "            y[i+j] = y[i+j] + a[i]*b[j]\n",
    "    return y"
   ]
  },
  {
   "cell_type": "code",
   "execution_count": 11,
   "id": "bd788523",
   "metadata": {},
   "outputs": [],
   "source": [
    "conv1 = np.convolve(a,b)\n",
    "conv2 = signal.convolve(a,b)\n",
    "conv3 = convolve_function_1(a, b)\n",
    "conv4 = convolve_function_2(a,b)"
   ]
  },
  {
   "cell_type": "code",
   "execution_count": 12,
   "id": "6bc3a48a",
   "metadata": {},
   "outputs": [
    {
     "name": "stdout",
     "output_type": "stream",
     "text": [
      "numpy convolve: [ 0  9  9 11  2  0 -1]\n",
      "scipy signal convolve: [ 0  9  9 11  2  0 -1]\n",
      "convolve function 1: [ 0.  9.  9. 11.  2.  0. -1.]\n",
      "convolve function 2: [ 0.  9.  9. 11.  2.  0. -1.]\n"
     ]
    }
   ],
   "source": [
    "print(f'numpy convolve: {conv1}')\n",
    "print(f'scipy signal convolve: {conv2}')\n",
    "print(f'convolve function 1: {conv3}')\n",
    "print(f'convolve function 2: {conv4}')"
   ]
  }
 ],
 "metadata": {
  "kernelspec": {
   "display_name": "Python 3 (ipykernel)",
   "language": "python",
   "name": "python3"
  },
  "language_info": {
   "codemirror_mode": {
    "name": "ipython",
    "version": 3
   },
   "file_extension": ".py",
   "mimetype": "text/x-python",
   "name": "python",
   "nbconvert_exporter": "python",
   "pygments_lexer": "ipython3",
   "version": "3.7.0"
  }
 },
 "nbformat": 4,
 "nbformat_minor": 5
}
